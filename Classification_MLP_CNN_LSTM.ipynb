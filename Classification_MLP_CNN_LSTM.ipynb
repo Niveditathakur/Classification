{
  "nbformat": 4,
  "nbformat_minor": 0,
  "metadata": {
    "colab": {
      "name": "Classification_MLP_CNN_LSTM.ipynb",
      "version": "0.3.2",
      "provenance": [],
      "include_colab_link": true
    },
    "kernelspec": {
      "name": "python3",
      "display_name": "Python 3"
    }
  },
  "cells": [
    {
      "cell_type": "markdown",
      "metadata": {
        "id": "view-in-github",
        "colab_type": "text"
      },
      "source": [
        "<a href=\"https://colab.research.google.com/github/Niveditathakur/Classification/blob/master/Classification_MLP_CNN_LSTM.ipynb\" target=\"_parent\"><img src=\"https://colab.research.google.com/assets/colab-badge.svg\" alt=\"Open In Colab\"/></a>"
      ]
    },
    {
      "metadata": {
        "id": "NeF5nY14unw-",
        "colab_type": "code",
        "colab": {}
      },
      "cell_type": "code",
      "source": [
        "#Load all the libraries \n",
        "\n",
        "import numpy as np\n",
        "import pandas as pd\n",
        "from sklearn import model_selection, preprocessing \n",
        "from sklearn.utils import shuffle\n",
        "import matplotlib.pyplot as plt\n",
        "import seaborn as sns\n",
        "\n",
        "from sklearn.preprocessing import LabelEncoder,  StandardScaler\n",
        "from sklearn.model_selection import train_test_split\n",
        "from sklearn.metrics import accuracy_score, log_loss, classification_report, confusion_matrix, roc_auc_score\n",
        "from sklearn.neighbors import KNeighborsClassifier\n",
        "from sklearn.svm import SVC, LinearSVC, NuSVC\n",
        "from sklearn.tree import DecisionTreeClassifier\n",
        "from sklearn.ensemble import RandomForestClassifier, AdaBoostClassifier, GradientBoostingClassifier, ExtraTreesClassifier\n",
        "from sklearn.naive_bayes import GaussianNB\n",
        "from sklearn.neural_network import MLPClassifier\n",
        "from sklearn.gaussian_process import GaussianProcessClassifier\n",
        "from sklearn.gaussian_process.kernels import RBF\n",
        "from sklearn.discriminant_analysis import LinearDiscriminantAnalysis, QuadraticDiscriminantAnalysis\n",
        "from sklearn.linear_model import LogisticRegression, RidgeClassifier\n",
        "from keras.utils import np_utils\n",
        "# Use scikit-learn to grid search the batch size and epochs\n",
        "from sklearn.model_selection import GridSearchCV, KFold, cross_val_score\n",
        "#ensemble classsifier\n",
        "from mlxtend.classifier import EnsembleVoteClassifier\n",
        "\n",
        "from keras.models import Sequential\n",
        "from keras.layers import LSTM, Dense, Dropout, Conv1D, BatchNormalization, MaxPooling1D, Activation, Flatten\n",
        "from keras.wrappers.scikit_learn import KerasClassifier\n",
        "from keras.utils import np_utils\n",
        "\n",
        "# fix random seed for reproducibility\n",
        "seed = 7\n",
        "np.random.seed(seed)\n",
        "\n",
        "import tensorflow as tf\n",
        "import keras\n",
        "\n",
        "#ignore warnings\n",
        "import warnings\n",
        "warnings.filterwarnings('ignore')"
      ],
      "execution_count": 0,
      "outputs": []
    },
    {
      "metadata": {
        "id": "AJwiiC8cuqtg",
        "colab_type": "code",
        "colab": {}
      },
      "cell_type": "code",
      "source": [
        "#load the breast cancer data - two class classification problem\n",
        "\n",
        "from sklearn.datasets import load_breast_cancer\n",
        "cancer_data = load_breast_cancer()\n",
        "\n",
        "data = cancer_data.data   # features \n",
        "labels = cancer_data.target # labels \n",
        "\n"
      ],
      "execution_count": 0,
      "outputs": []
    },
    {
      "metadata": {
        "id": "MaEocgMNuq2G",
        "colab_type": "code",
        "outputId": "b49318b3-aa76-495b-a124-806be39db1f9",
        "colab": {
          "base_uri": "https://localhost:8080/",
          "height": 51
        }
      },
      "cell_type": "code",
      "source": [
        "# Use a simple MLP for the classification  task\n",
        "# epochs and batch size \n",
        "num_folds = 3\n",
        "\n",
        "num_epochs = 100\n",
        "batch_size = 100 \n",
        "\n",
        "\n",
        "def base_model():\n",
        "        # create model\n",
        "        model = Sequential()\n",
        "        \n",
        "        model.add(Dense(16, input_dim=data.shape[1], init = 'uniform', activation='relu'))\n",
        "        model.add(Dropout(0.1)) # dropout\n",
        "        model.add(Dense(32, init = 'uniform', activation='relu'))\n",
        "        model.add(Dropout(0.1)) \n",
        "        model.add(Dense(2, init='uniform', activation='softmax'))\n",
        "        model.compile(loss='binary_crossentropy', optimizer='adam' , metrics=['accuracy'])\n",
        "        \n",
        "        return model\n",
        "\n",
        "\n",
        "\n",
        "\n",
        "# convert integers to dummy variables (i.e. one hot encoded)\n",
        "encoder = LabelEncoder() ; \n",
        "encoder.fit(labels) ; encoded_labels = encoder.transform(labels)\n",
        "one_hot_labels = np_utils.to_categorical(encoded_labels) ; \n",
        "\n",
        "\n",
        "#print the model summary \n",
        "#print(base_model.summary())\n",
        "\n",
        "clf         =  KerasClassifier(build_fn=base_model, epochs = num_epochs, batch_size = batch_size, verbose=0)\n",
        "kfold       =  KFold(n_splits=num_folds, shuffle=True, random_state=seed)\n",
        "\n",
        "acc_res     =  model_selection.cross_val_score(clf, data, one_hot_labels, cv=kfold) \n",
        "#use Area under roc curve as metric for performance\n",
        "auc_res     =  model_selection.cross_val_score(clf,  data, one_hot_labels, cv=kfold, \n",
        "                                                  scoring='roc_auc')\n",
        "\n",
        "print(\"MLP Classification Accuracy: %.2f%% (%.2f%%)\" % (acc_res.mean()*100, acc_res.std()*100))\n",
        "print(\"MLP Area under ROC curve: %.2f%% (%.2f%%)\" % (auc_res.mean(), auc_res.std()))"
      ],
      "execution_count": 3,
      "outputs": [
        {
          "output_type": "stream",
          "text": [
            "MLP Classification Accuracy: 93.15% (0.86%)\n",
            "MLP Area under ROC curve: 0.98% (0.01%)\n"
          ],
          "name": "stdout"
        }
      ]
    },
    {
      "metadata": {
        "id": "oaIidknlvzJJ",
        "colab_type": "code",
        "outputId": "502fc6b7-e28b-4a42-f1c8-91e7586f9be5",
        "colab": {
          "base_uri": "https://localhost:8080/",
          "height": 687
        }
      },
      "cell_type": "code",
      "source": [
        "# Generate confusion matrix for the MLP classifier \n",
        "X_train, X_test, y_train, y_test = train_test_split(data, labels, test_size = 0.3, random_state = seed)\n",
        "\n",
        "\n",
        "#define the MLP\n",
        "model = Sequential()\n",
        "model.add(Dense(16, input_dim=data.shape[1], init = 'uniform', activation='relu'))\n",
        "model.add(Dropout(0.1)) \n",
        "model.add(Dense(32, init = 'uniform', activation='relu'))\n",
        "model.add(Dropout(0.1)) \n",
        "# sigmoid is used here as 2 class problem\n",
        "model.add(Dense(1, init='uniform', activation='sigmoid')) \n",
        "model.compile(loss='binary_crossentropy', optimizer='adam' , metrics=['accuracy'])\n",
        "\n",
        "\n",
        "print(model.summary())\n",
        "#model Fit\n",
        "model.fit(X_train, y_train, batch_size=batch_size, nb_epoch=num_epochs, verbose=0)\n",
        "# Predicting the Test set results\n",
        "y_pred = model.predict(X_test)\n",
        "y_pred = (y_pred > 0.5)\n",
        "\n",
        "\n",
        "# Making the Confusion Matrix\n",
        "from sklearn.metrics import confusion_matrix\n",
        "\n",
        "cm = confusion_matrix(y_test, y_pred)\n",
        "print(\"Classification accuracy is {}%\".format(((cm[0][0] + cm[1][1])/ y_test.shape[0])*100))\n",
        "\n",
        "# generate heatmap of the confusion matrix\n",
        "sns.heatmap(cm, annot=True)\n"
      ],
      "execution_count": 4,
      "outputs": [
        {
          "output_type": "stream",
          "text": [
            "_________________________________________________________________\n",
            "Layer (type)                 Output Shape              Param #   \n",
            "=================================================================\n",
            "dense_19 (Dense)             (None, 16)                496       \n",
            "_________________________________________________________________\n",
            "dropout_13 (Dropout)         (None, 16)                0         \n",
            "_________________________________________________________________\n",
            "dense_20 (Dense)             (None, 32)                544       \n",
            "_________________________________________________________________\n",
            "dropout_14 (Dropout)         (None, 32)                0         \n",
            "_________________________________________________________________\n",
            "dense_21 (Dense)             (None, 1)                 33        \n",
            "=================================================================\n",
            "Total params: 1,073\n",
            "Trainable params: 1,073\n",
            "Non-trainable params: 0\n",
            "_________________________________________________________________\n",
            "None\n",
            "Classification accuracy is 93.56725146198829%\n"
          ],
          "name": "stdout"
        },
        {
          "output_type": "execute_result",
          "data": {
            "text/plain": [
              "<matplotlib.axes._subplots.AxesSubplot at 0x7fd9462ad208>"
            ]
          },
          "metadata": {
            "tags": []
          },
          "execution_count": 4
        },
        {
          "output_type": "display_data",
          "data": {
            "image/png": "[encoded data removed]",
            "text/plain": [
              "<matplotlib.figure.Figure at 0x7fd9465254e0>"
            ]
          },
          "metadata": {
            "tags": []
          }
        }
      ]
    },
    {
      "metadata": {
        "id": "srZCAYYL1WQs",
        "colab_type": "code",
        "outputId": "5ea6c46a-5b0a-403d-ca1d-278797b54347",
        "colab": {
          "base_uri": "https://localhost:8080/",
          "height": 840
        }
      },
      "cell_type": "code",
      "source": [
        "# Employ a 1D CNN model before the linear layers for the same task\n",
        "model = Sequential()\n",
        "model.add(Conv1D(32, input_shape=(data.shape[1],1), kernel_size=3, strides=1, padding='valid')),     \n",
        "model.add(BatchNormalization()), # batch normalization\n",
        "model.add(MaxPooling1D(3)), \n",
        "model.add(Activation('relu')),\n",
        "model.add(Dropout(0.1)),\n",
        "model.add(Flatten()),\n",
        "model.add(Dense(16, init = 'uniform', activation='relu'))\n",
        "model.add(Dropout(0.1)) \n",
        "# softmax is used here as opposed to sigmoid in previous cell as both are\n",
        "# essentially the same for 2 class problem\n",
        "model.add(Dense(2, init='uniform', activation='softmax')) \n",
        "model.compile(loss='binary_crossentropy', optimizer='adam' , metrics=['accuracy'])\n",
        "\n",
        "#print model summary\n",
        "print(model.summary())\n",
        "\n",
        "#reshape train and test data for the input of CNN\n",
        "leng =data.shape[1]\n",
        "X_train = X_train.reshape(X_train.shape[0],  leng,  1).astype('float32')\n",
        "X_test  = X_test.reshape(X_test.shape[0],  leng,  1).astype('float32')\n",
        "\n",
        "#model Fit -here one hot encoded y_train is used\n",
        "model.fit(X_train, np_utils.to_categorical(y_train), batch_size=batch_size, nb_epoch=num_epochs, verbose=0)\n",
        "# Predicting the Test set results\n",
        "y_pred = model.predict_classes(X_test)\n",
        "\n",
        "cm = confusion_matrix(y_test, y_pred)\n",
        "print(\"Classification accuracy is {}%\".format(((cm[0][0] + cm[1][1])/ y_test.shape[0])*100))\n",
        "print(\"AUROC is:\", roc_auc_score(y_test, y_pred) )\n",
        "# generate heatmap of the confusion matrix\n",
        "sns.heatmap(cm, annot=True)\n",
        " "
      ],
      "execution_count": 5,
      "outputs": [
        {
          "output_type": "stream",
          "text": [
            "_________________________________________________________________\n",
            "Layer (type)                 Output Shape              Param #   \n",
            "=================================================================\n",
            "conv1d_1 (Conv1D)            (None, 28, 32)            128       \n",
            "_________________________________________________________________\n",
            "batch_normalization_1 (Batch (None, 28, 32)            128       \n",
            "_________________________________________________________________\n",
            "max_pooling1d_1 (MaxPooling1 (None, 9, 32)             0         \n",
            "_________________________________________________________________\n",
            "activation_1 (Activation)    (None, 9, 32)             0         \n",
            "_________________________________________________________________\n",
            "dropout_15 (Dropout)         (None, 9, 32)             0         \n",
            "_________________________________________________________________\n",
            "flatten_1 (Flatten)          (None, 288)               0         \n",
            "_________________________________________________________________\n",
            "dense_22 (Dense)             (None, 16)                4624      \n",
            "_________________________________________________________________\n",
            "dropout_16 (Dropout)         (None, 16)                0         \n",
            "_________________________________________________________________\n",
            "dense_23 (Dense)             (None, 2)                 34        \n",
            "=================================================================\n",
            "Total params: 4,914\n",
            "Trainable params: 4,850\n",
            "Non-trainable params: 64\n",
            "_________________________________________________________________\n",
            "None\n",
            "Classification accuracy is 93.56725146198829%\n",
            "AUROC is: 0.9047805642633229\n"
          ],
          "name": "stdout"
        },
        {
          "output_type": "execute_result",
          "data": {
            "text/plain": [
              "<matplotlib.axes._subplots.AxesSubplot at 0x7fd94297a630>"
            ]
          },
          "metadata": {
            "tags": []
          },
          "execution_count": 5
        },
        {
          "output_type": "display_data",
          "data": {
            "image/png": "[encoded data removed]",
            "text/plain": [
              "<matplotlib.figure.Figure at 0x7fd942973ef0>"
            ]
          },
          "metadata": {
            "tags": []
          }
        }
      ]
    },
    {
      "metadata": {
        "id": "CLv3BJMg1n4C",
        "colab_type": "code",
        "outputId": "1251942d-79fc-4499-f3fe-fe43a3b9ce13",
        "colab": {
          "base_uri": "https://localhost:8080/",
          "height": 840
        }
      },
      "cell_type": "code",
      "source": [
        "# Employ a 1D CNN-LSTM model before the linear layers for the same task\n",
        "model = Sequential()\n",
        "model.add(Conv1D(32, input_shape=(data.shape[1],1), kernel_size=3, strides=1, padding='valid')),                           #Initial layer short kernel focusing on formants\n",
        "model.add(BatchNormalization()), # batch normalization\n",
        "model.add(MaxPooling1D(3)), \n",
        "model.add(Activation('relu')),\n",
        "model.add(Dropout(0.1)),\n",
        "model.add(LSTM(32))#leng,input_shape=(1,leng), return_sequences=True ) )\n",
        "model.add(Dense(16, init = 'uniform', activation='relu'))\n",
        "model.add(Dropout(0.1)) \n",
        "# softmax is used here  similar to the previous cell\n",
        "model.add(Dense(2, init='uniform', activation='softmax')) \n",
        "model.compile(loss='binary_crossentropy', optimizer='adam' , metrics=['accuracy'])\n",
        "\n",
        "#print model summary\n",
        "print(model.summary())\n",
        "\n",
        "#model Fit -here one hot encoded y_train is used\n",
        "model.fit(X_train, np_utils.to_categorical(y_train), batch_size=batch_size, nb_epoch=num_epochs, verbose=0)\n",
        "# Predicting the Test set results\n",
        "y_pred = model.predict_classes(X_test)\n",
        "\n",
        "cm = confusion_matrix(y_test, y_pred)\n",
        "print(\"Classification accuracy is {}%\".format(((cm[0][0] + cm[1][1])/ y_test.shape[0])*100))\n",
        "print(\"AUROC is:\", roc_auc_score(y_test, y_pred) )\n",
        "# generate heatmap of the confusion matrix\n",
        "sns.heatmap(cm, annot=True)\n"
      ],
      "execution_count": 6,
      "outputs": [
        {
          "output_type": "stream",
          "text": [
            "_________________________________________________________________\n",
            "Layer (type)                 Output Shape              Param #   \n",
            "=================================================================\n",
            "conv1d_2 (Conv1D)            (None, 28, 32)            128       \n",
            "_________________________________________________________________\n",
            "batch_normalization_2 (Batch (None, 28, 32)            128       \n",
            "_________________________________________________________________\n",
            "max_pooling1d_2 (MaxPooling1 (None, 9, 32)             0         \n",
            "_________________________________________________________________\n",
            "activation_2 (Activation)    (None, 9, 32)             0         \n",
            "_________________________________________________________________\n",
            "dropout_17 (Dropout)         (None, 9, 32)             0         \n",
            "_________________________________________________________________\n",
            "lstm_1 (LSTM)                (None, 32)                8320      \n",
            "_________________________________________________________________\n",
            "dense_24 (Dense)             (None, 16)                528       \n",
            "_________________________________________________________________\n",
            "dropout_18 (Dropout)         (None, 16)                0         \n",
            "_________________________________________________________________\n",
            "dense_25 (Dense)             (None, 2)                 34        \n",
            "=================================================================\n",
            "Total params: 9,138\n",
            "Trainable params: 9,074\n",
            "Non-trainable params: 64\n",
            "_________________________________________________________________\n",
            "None\n",
            "Classification accuracy is 92.39766081871345%\n",
            "AUROC is: 0.9009404388714735\n"
          ],
          "name": "stdout"
        },
        {
          "output_type": "execute_result",
          "data": {
            "text/plain": [
              "<matplotlib.axes._subplots.AxesSubplot at 0x7fd940f756d8>"
            ]
          },
          "metadata": {
            "tags": []
          },
          "execution_count": 6
        },
        {
          "output_type": "display_data",
          "data": {
            "image/png": "[encoded data removed]",
            "text/plain": [
              "<matplotlib.figure.Figure at 0x7fd940f75080>"
            ]
          },
          "metadata": {
            "tags": []
          }
        }
      ]
    }
  ]
}